{
  "cells": [
    {
      "cell_type": "markdown",
      "metadata": {
        "id": "view-in-github",
        "colab_type": "text"
      },
      "source": [
        "<a href=\"https://colab.research.google.com/github/milindsoorya/colab-notebooks/blob/main/GAN_on_Fashion_MNIST.ipynb\" target=\"_parent\"><img src=\"https://colab.research.google.com/assets/colab-badge.svg\" alt=\"Open In Colab\"/></a>"
      ]
    },
    {
      "cell_type": "code",
      "execution_count": null,
      "metadata": {
        "id": "eBZNs1VKacUs"
      },
      "outputs": [],
      "source": [
        "import tensorflow as tf\n",
        "\n",
        "# Maintain consistent performance\n",
        "tf.random.set_seed(1)"
      ]
    },
    {
      "cell_type": "code",
      "execution_count": null,
      "metadata": {
        "colab": {
          "base_uri": "https://localhost:8080/"
        },
        "id": "f0LZ29e0bBpH",
        "outputId": "f1dd0ad8-9309-4ee2-b8f5-1fdad0750598"
      },
      "outputs": [
        {
          "name": "stdout",
          "output_type": "stream",
          "text": [
            "Downloading data from https://storage.googleapis.com/tensorflow/tf-keras-datasets/train-labels-idx1-ubyte.gz\n",
            "32768/29515 [=================================] - 0s 0us/step\n",
            "40960/29515 [=========================================] - 0s 0us/step\n",
            "Downloading data from https://storage.googleapis.com/tensorflow/tf-keras-datasets/train-images-idx3-ubyte.gz\n",
            "26427392/26421880 [==============================] - 0s 0us/step\n",
            "26435584/26421880 [==============================] - 0s 0us/step\n",
            "Downloading data from https://storage.googleapis.com/tensorflow/tf-keras-datasets/t10k-labels-idx1-ubyte.gz\n",
            "16384/5148 [===============================================================================================] - 0s 0us/step\n",
            "Downloading data from https://storage.googleapis.com/tensorflow/tf-keras-datasets/t10k-images-idx3-ubyte.gz\n",
            "4423680/4422102 [==============================] - 0s 0us/step\n",
            "4431872/4422102 [==============================] - 0s 0us/step\n"
          ]
        }
      ],
      "source": [
        "from tensorflow.keras.datasets import fashion_mnist\n",
        "\n",
        "(x_train, y_train), (x_test, y_test) = fashion_mnist.load_data()"
      ]
    },
    {
      "cell_type": "code",
      "execution_count": null,
      "metadata": {
        "id": "PtIeCf8nbMsR"
      },
      "outputs": [],
      "source": [
        "import numpy as np\n",
        "\n",
        "# As we are not bothered with classification, we can combine the train and test data.\n",
        "dataset = np.concatenate([x_train, x_test], axis=0)\n",
        "# Add extra dimension as the convolution layer expects 3 channels, 28x28 --> 28x28x1\n",
        "# Also normalising the value to [0, 1]\n",
        "dataset = np.expand_dims(dataset, -1).astype(\"float32\") / 255"
      ]
    },
    {
      "cell_type": "code",
      "execution_count": null,
      "metadata": {
        "id": "pEYIT31SbYdg"
      },
      "outputs": [],
      "source": [
        "BATCH_SIZE = 64\n",
        "\n",
        "# Convolution layers need 3 channels\n",
        "dataset = np.reshape(dataset, (-1, 28, 28, 1))\n",
        "# Create a tensorflow dataset object\n",
        "dataset = tf.data.Dataset.from_tensor_slices(dataset)\n",
        "# Set the batch size otherwise it reads one image at a time\n",
        "dataset = dataset.shuffle(buffer_size=1024).batch(BATCH_SIZE)"
      ]
    },
    {
      "cell_type": "code",
      "execution_count": null,
      "metadata": {
        "colab": {
          "base_uri": "https://localhost:8080/"
        },
        "id": "3rMmiN9icd7s",
        "outputId": "a7c76294-adff-4d73-f8e8-26473ab98daf"
      },
      "outputs": [
        {
          "name": "stdout",
          "output_type": "stream",
          "text": [
            "Model: \"sequential\"\n",
            "_________________________________________________________________\n",
            " Layer (type)                Output Shape              Param #   \n",
            "=================================================================\n",
            " dense (Dense)               (None, 12544)             14438144  \n",
            "                                                                 \n",
            " reshape (Reshape)           (None, 7, 7, 256)         0         \n",
            "                                                                 \n",
            " conv2d_transpose (Conv2DTra  (None, 14, 14, 256)      590080    \n",
            " nspose)                                                         \n",
            "                                                                 \n",
            " conv2d_transpose_1 (Conv2DT  (None, 28, 28, 128)      295040    \n",
            " ranspose)                                                       \n",
            "                                                                 \n",
            " conv2d_transpose_2 (Conv2DT  (None, 28, 28, 1)        1153      \n",
            " ranspose)                                                       \n",
            "                                                                 \n",
            "=================================================================\n",
            "Total params: 15,324,417\n",
            "Trainable params: 15,324,417\n",
            "Non-trainable params: 0\n",
            "_________________________________________________________________\n"
          ]
        }
      ],
      "source": [
        "from tensorflow import keras\n",
        "from tensorflow.keras import layers\n",
        "\n",
        "# The generators input is a noise vector\n",
        "# A hyper parameter that can be fine tuned\n",
        "NOISE_DIM = 150\n",
        "\n",
        "generator = keras.models.Sequential([\n",
        "  keras.layers.InputLayer(input_shape=(NOISE_DIM,)),\n",
        "  layers.Dense(7*7*256),\n",
        "  layers.Reshape(target_shape = (7, 7, 256)),\n",
        "  layers.Conv2DTranspose(256, 3, activation=\"LeakyReLU\", strides=2, padding=\"same\"),\n",
        "  layers.Conv2DTranspose(128, 3, activation=\"LeakyReLU\", strides=2, padding=\"same\"),\n",
        "  layers.Conv2DTranspose(1, 3, activation=\"sigmoid\", padding=\"same\"),\n",
        "\n",
        "])\n",
        "\n",
        "generator.summary()"
      ]
    },
    {
      "cell_type": "code",
      "execution_count": null,
      "metadata": {
        "colab": {
          "base_uri": "https://localhost:8080/"
        },
        "id": "QVl6izomd2j4",
        "outputId": "55e69d01-4916-44a5-ef3a-c82468772c7c"
      },
      "outputs": [
        {
          "name": "stdout",
          "output_type": "stream",
          "text": [
            "Model: \"sequential_1\"\n",
            "_________________________________________________________________\n",
            " Layer (type)                Output Shape              Param #   \n",
            "=================================================================\n",
            " conv2d_transpose_3 (Conv2DT  (None, 56, 56, 256)      2560      \n",
            " ranspose)                                                       \n",
            "                                                                 \n",
            " conv2d_transpose_4 (Conv2DT  (None, 112, 112, 128)    295040    \n",
            " ranspose)                                                       \n",
            "                                                                 \n",
            " flatten (Flatten)           (None, 1605632)           0         \n",
            "                                                                 \n",
            " dense_1 (Dense)             (None, 64)                102760512 \n",
            "                                                                 \n",
            " dropout (Dropout)           (None, 64)                0         \n",
            "                                                                 \n",
            " dense_2 (Dense)             (None, 1)                 65        \n",
            "                                                                 \n",
            "=================================================================\n",
            "Total params: 103,058,177\n",
            "Trainable params: 103,058,177\n",
            "Non-trainable params: 0\n",
            "_________________________________________________________________\n"
          ]
        }
      ],
      "source": [
        "discriminator = keras.models.Sequential([\n",
        "  keras.layers.InputLayer(input_shape=(28, 28, 1)),\n",
        "  layers.Conv2DTranspose(256, 3, activation=\"relu\", strides=2, padding=\"same\"),\n",
        "  layers.Conv2DTranspose(128, 3, activation=\"relu\", strides=2, padding=\"same\"),\n",
        "  layers.Flatten(),\n",
        "  layers.Dense(64, activation=\"relu\"),\n",
        "  layers.Dropout(0.2),\n",
        "  layers.Dense(1, activation=\"sigmoid\")\n",
        "])\n",
        "\n",
        "discriminator.summary()"
      ]
    },
    {
      "cell_type": "code",
      "execution_count": null,
      "metadata": {
        "id": "uNcC1A__e29p"
      },
      "outputs": [],
      "source": [
        "optimizerG = keras.optimizers.Adam(learning_rate=0.00001, beta_1=0.5)\n",
        "optimizerD = keras.optimizers.Adam(learning_rate=0.00003, beta_1=0.5)\n",
        "\n",
        "# Binary classifier\n",
        "lossFn = keras.losses.BinaryCrossentropy(from_logits=True)\n",
        "\n",
        "# Accuracy metric\n",
        "gAccMetric = tf.keras.metrics.BinaryAccuracy()\n",
        "dAccMetric = tf.keras.metrics.BinaryAccuracy()"
      ]
    },
    {
      "cell_type": "code",
      "execution_count": null,
      "metadata": {
        "id": "L2IdyyuQfmcN"
      },
      "outputs": [],
      "source": [
        "@tf.function\n",
        "def trainDStep(data):\n",
        "  batchSize = tf.shape(data)[0]\n",
        "  # Create a noise vector as generator input, sampled from Gaussian Random Normal\n",
        "  # Try usinf uniform distribution\n",
        "  noise = tf.random.normal(shape=(batchSize, NOISE_DIM))\n",
        "\n",
        "  # Concatenate the real and fake labels\n",
        "  y_true = tf.concat([\n",
        "      # The original data is real, labeled with 1\n",
        "      tf.ones(batchSize, 1),\n",
        "      # The forged data is fake, labeled with 0\n",
        "      tf.zeros(batchSize, 1) \n",
        "  ],\n",
        "  axis=0\n",
        "  )\n",
        "\n",
        "  # Record the calculated gradients\n",
        "  with tf.GradientTape() as tape:\n",
        "    # Generate forged samples\n",
        "    fake = generator(noise)\n",
        "    # Concatenate real data and forged data\n",
        "    x = tf.concat([data, fake], axis=0)\n",
        "    # See if the discriminator detects them\n",
        "    y_pred = discriminator(x)\n",
        "    # Calculate the loss\n",
        "    discriminatorLoss = lossFn(y_true, y_pred)\n",
        "\n",
        "  # Apply the backpropagation and update the weights\n",
        "  grads = tape.gradient(discriminatorLoss, discriminator.trainable_weights)\n",
        "  optimizerD.apply_gradients(zip(grads, discriminator.trainable_weights))\n",
        "\n",
        "  # report accuracy\n",
        "  dAccMetric.update_state(y_true, y_pred)\n",
        "\n",
        "  # return the loss for visualisation\n",
        "  return {\n",
        "      \"discriminator_loss\": discriminatorLoss,\n",
        "      \"discriminator_accuracy\": dAccMetric.result()\n",
        "  }"
      ]
    },
    {
      "cell_type": "code",
      "execution_count": null,
      "metadata": {
        "id": "Dp53Ho6IiARK"
      },
      "outputs": [],
      "source": [
        "@tf.function\n",
        "def trainGStep(data):\n",
        "  batchSize = tf.shape(data)[0]\n",
        "  noise = tf.random.normal(shape=(batchSize, NOISE_DIM))\n",
        "\n",
        "  y_true = tf.ones(batchSize, 1)\n",
        "\n",
        "  with tf.GradientTape() as tape:\n",
        "    y_pred = discriminator(generator(noise))\n",
        "    generatorLoss = lossFn(y_true, y_pred)\n",
        "\n",
        "  grads = tape.gradient(generatorLoss, discriminator.trainable_weights)\n",
        "  optimizerG.apply_gradients(zip(grads, discriminator.trainable_weights))\n",
        "\n",
        "  # report accuracy\n",
        "  gAccMetric.update_state(y_true, y_pred)\n",
        "\n",
        "  # return the loss for visualisation\n",
        "  return {\n",
        "      \"generator_loss\": generatorLoss,\n",
        "      \"generator_accuracy\": gAccMetric.result()\n",
        "  }"
      ]
    },
    {
      "cell_type": "code",
      "execution_count": null,
      "metadata": {
        "id": "rb0yyg-Divg1"
      },
      "outputs": [],
      "source": [
        "from matplotlib import pyplot as plt\n",
        "\n",
        "def plotImages(model):\n",
        "  images = model(np.random.normal(size=(81, NOISE_DIM)))\n",
        "\n",
        "  plt.figure(figsize=(9, 9))\n",
        "\n",
        "  for i, image in enumerate(images):\n",
        "    plt.subplot(9, 9, i+1)\n",
        "    plt.imshow(np.squeeze(image, -1), cmap=\"Greys_r\")\n",
        "    plt.axis('off')\n",
        "\n",
        "  plt.show()"
      ]
    },
    {
      "cell_type": "code",
      "execution_count": null,
      "metadata": {
        "colab": {
          "background_save": true
        },
        "id": "WerJpL_OjUwS",
        "outputId": "34592074-ffc5-496c-cf4b-4acccc4954f3"
      },
      "outputs": [
        {
          "ename": "KeyboardInterrupt",
          "evalue": "ignored",
          "output_type": "error",
          "traceback": [
            "\u001b[0;31m---------------------------------------------------------------------------\u001b[0m",
            "\u001b[0;31mKeyboardInterrupt\u001b[0m                         Traceback (most recent call last)",
            "\u001b[0;32m<ipython-input-13-27239a089a26>\u001b[0m in \u001b[0;36m<module>\u001b[0;34m()\u001b[0m\n\u001b[1;32m     11\u001b[0m   \u001b[0;32mfor\u001b[0m \u001b[0mbatch\u001b[0m \u001b[0;32min\u001b[0m \u001b[0mdataset\u001b[0m\u001b[0;34m:\u001b[0m\u001b[0;34m\u001b[0m\u001b[0;34m\u001b[0m\u001b[0m\n\u001b[1;32m     12\u001b[0m     \u001b[0;31m# Train the discriminator\u001b[0m\u001b[0;34m\u001b[0m\u001b[0;34m\u001b[0m\u001b[0;34m\u001b[0m\u001b[0m\n\u001b[0;32m---> 13\u001b[0;31m     \u001b[0mdLoss\u001b[0m \u001b[0;34m=\u001b[0m \u001b[0mtrainDStep\u001b[0m\u001b[0;34m(\u001b[0m\u001b[0mbatch\u001b[0m\u001b[0;34m)\u001b[0m\u001b[0;34m\u001b[0m\u001b[0;34m\u001b[0m\u001b[0m\n\u001b[0m\u001b[1;32m     14\u001b[0m     \u001b[0mdLossSum\u001b[0m \u001b[0;34m+=\u001b[0m \u001b[0mdLoss\u001b[0m\u001b[0;34m[\u001b[0m\u001b[0;34m'discriminator_loss'\u001b[0m\u001b[0;34m]\u001b[0m\u001b[0;34m\u001b[0m\u001b[0;34m\u001b[0m\u001b[0m\n\u001b[1;32m     15\u001b[0m     \u001b[0mdAccSum\u001b[0m \u001b[0;34m+=\u001b[0m \u001b[0mdLoss\u001b[0m\u001b[0;34m[\u001b[0m\u001b[0;34m'discriminator_accuracy'\u001b[0m\u001b[0;34m]\u001b[0m\u001b[0;34m\u001b[0m\u001b[0;34m\u001b[0m\u001b[0m\n",
            "\u001b[0;32m/usr/local/lib/python3.7/dist-packages/tensorflow/python/util/traceback_utils.py\u001b[0m in \u001b[0;36merror_handler\u001b[0;34m(*args, **kwargs)\u001b[0m\n\u001b[1;32m    148\u001b[0m     \u001b[0mfiltered_tb\u001b[0m \u001b[0;34m=\u001b[0m \u001b[0;32mNone\u001b[0m\u001b[0;34m\u001b[0m\u001b[0;34m\u001b[0m\u001b[0m\n\u001b[1;32m    149\u001b[0m     \u001b[0;32mtry\u001b[0m\u001b[0;34m:\u001b[0m\u001b[0;34m\u001b[0m\u001b[0;34m\u001b[0m\u001b[0m\n\u001b[0;32m--> 150\u001b[0;31m       \u001b[0;32mreturn\u001b[0m \u001b[0mfn\u001b[0m\u001b[0;34m(\u001b[0m\u001b[0;34m*\u001b[0m\u001b[0margs\u001b[0m\u001b[0;34m,\u001b[0m \u001b[0;34m**\u001b[0m\u001b[0mkwargs\u001b[0m\u001b[0;34m)\u001b[0m\u001b[0;34m\u001b[0m\u001b[0;34m\u001b[0m\u001b[0m\n\u001b[0m\u001b[1;32m    151\u001b[0m     \u001b[0;32mexcept\u001b[0m \u001b[0mException\u001b[0m \u001b[0;32mas\u001b[0m \u001b[0me\u001b[0m\u001b[0;34m:\u001b[0m\u001b[0;34m\u001b[0m\u001b[0;34m\u001b[0m\u001b[0m\n\u001b[1;32m    152\u001b[0m       \u001b[0mfiltered_tb\u001b[0m \u001b[0;34m=\u001b[0m \u001b[0m_process_traceback_frames\u001b[0m\u001b[0;34m(\u001b[0m\u001b[0me\u001b[0m\u001b[0;34m.\u001b[0m\u001b[0m__traceback__\u001b[0m\u001b[0;34m)\u001b[0m\u001b[0;34m\u001b[0m\u001b[0;34m\u001b[0m\u001b[0m\n",
            "\u001b[0;32m/usr/local/lib/python3.7/dist-packages/tensorflow/python/eager/def_function.py\u001b[0m in \u001b[0;36m__call__\u001b[0;34m(self, *args, **kwds)\u001b[0m\n\u001b[1;32m    913\u001b[0m \u001b[0;34m\u001b[0m\u001b[0m\n\u001b[1;32m    914\u001b[0m       \u001b[0;32mwith\u001b[0m \u001b[0mOptionalXlaContext\u001b[0m\u001b[0;34m(\u001b[0m\u001b[0mself\u001b[0m\u001b[0;34m.\u001b[0m\u001b[0m_jit_compile\u001b[0m\u001b[0;34m)\u001b[0m\u001b[0;34m:\u001b[0m\u001b[0;34m\u001b[0m\u001b[0;34m\u001b[0m\u001b[0m\n\u001b[0;32m--> 915\u001b[0;31m         \u001b[0mresult\u001b[0m \u001b[0;34m=\u001b[0m \u001b[0mself\u001b[0m\u001b[0;34m.\u001b[0m\u001b[0m_call\u001b[0m\u001b[0;34m(\u001b[0m\u001b[0;34m*\u001b[0m\u001b[0margs\u001b[0m\u001b[0;34m,\u001b[0m \u001b[0;34m**\u001b[0m\u001b[0mkwds\u001b[0m\u001b[0;34m)\u001b[0m\u001b[0;34m\u001b[0m\u001b[0;34m\u001b[0m\u001b[0m\n\u001b[0m\u001b[1;32m    916\u001b[0m \u001b[0;34m\u001b[0m\u001b[0m\n\u001b[1;32m    917\u001b[0m       \u001b[0mnew_tracing_count\u001b[0m \u001b[0;34m=\u001b[0m \u001b[0mself\u001b[0m\u001b[0;34m.\u001b[0m\u001b[0mexperimental_get_tracing_count\u001b[0m\u001b[0;34m(\u001b[0m\u001b[0;34m)\u001b[0m\u001b[0;34m\u001b[0m\u001b[0;34m\u001b[0m\u001b[0m\n",
            "\u001b[0;32m/usr/local/lib/python3.7/dist-packages/tensorflow/python/eager/def_function.py\u001b[0m in \u001b[0;36m_call\u001b[0;34m(self, *args, **kwds)\u001b[0m\n\u001b[1;32m    945\u001b[0m       \u001b[0;31m# In this case we have created variables on the first call, so we run the\u001b[0m\u001b[0;34m\u001b[0m\u001b[0;34m\u001b[0m\u001b[0;34m\u001b[0m\u001b[0m\n\u001b[1;32m    946\u001b[0m       \u001b[0;31m# defunned version which is guaranteed to never create variables.\u001b[0m\u001b[0;34m\u001b[0m\u001b[0;34m\u001b[0m\u001b[0;34m\u001b[0m\u001b[0m\n\u001b[0;32m--> 947\u001b[0;31m       \u001b[0;32mreturn\u001b[0m \u001b[0mself\u001b[0m\u001b[0;34m.\u001b[0m\u001b[0m_stateless_fn\u001b[0m\u001b[0;34m(\u001b[0m\u001b[0;34m*\u001b[0m\u001b[0margs\u001b[0m\u001b[0;34m,\u001b[0m \u001b[0;34m**\u001b[0m\u001b[0mkwds\u001b[0m\u001b[0;34m)\u001b[0m  \u001b[0;31m# pylint: disable=not-callable\u001b[0m\u001b[0;34m\u001b[0m\u001b[0;34m\u001b[0m\u001b[0m\n\u001b[0m\u001b[1;32m    948\u001b[0m     \u001b[0;32melif\u001b[0m \u001b[0mself\u001b[0m\u001b[0;34m.\u001b[0m\u001b[0m_stateful_fn\u001b[0m \u001b[0;32mis\u001b[0m \u001b[0;32mnot\u001b[0m \u001b[0;32mNone\u001b[0m\u001b[0;34m:\u001b[0m\u001b[0;34m\u001b[0m\u001b[0;34m\u001b[0m\u001b[0m\n\u001b[1;32m    949\u001b[0m       \u001b[0;31m# Release the lock early so that multiple threads can perform the call\u001b[0m\u001b[0;34m\u001b[0m\u001b[0;34m\u001b[0m\u001b[0;34m\u001b[0m\u001b[0m\n",
            "\u001b[0;32m/usr/local/lib/python3.7/dist-packages/tensorflow/python/eager/function.py\u001b[0m in \u001b[0;36m__call__\u001b[0;34m(self, *args, **kwargs)\u001b[0m\n\u001b[1;32m   2955\u001b[0m        filtered_flat_args) = self._maybe_define_function(args, kwargs)\n\u001b[1;32m   2956\u001b[0m     return graph_function._call_flat(\n\u001b[0;32m-> 2957\u001b[0;31m         filtered_flat_args, captured_inputs=graph_function.captured_inputs)  # pylint: disable=protected-access\n\u001b[0m\u001b[1;32m   2958\u001b[0m \u001b[0;34m\u001b[0m\u001b[0m\n\u001b[1;32m   2959\u001b[0m   \u001b[0;34m@\u001b[0m\u001b[0mproperty\u001b[0m\u001b[0;34m\u001b[0m\u001b[0;34m\u001b[0m\u001b[0m\n",
            "\u001b[0;32m/usr/local/lib/python3.7/dist-packages/tensorflow/python/eager/function.py\u001b[0m in \u001b[0;36m_call_flat\u001b[0;34m(self, args, captured_inputs, cancellation_manager)\u001b[0m\n\u001b[1;32m   1852\u001b[0m       \u001b[0;31m# No tape is watching; skip to running the function.\u001b[0m\u001b[0;34m\u001b[0m\u001b[0;34m\u001b[0m\u001b[0;34m\u001b[0m\u001b[0m\n\u001b[1;32m   1853\u001b[0m       return self._build_call_outputs(self._inference_function.call(\n\u001b[0;32m-> 1854\u001b[0;31m           ctx, args, cancellation_manager=cancellation_manager))\n\u001b[0m\u001b[1;32m   1855\u001b[0m     forward_backward = self._select_forward_and_backward_functions(\n\u001b[1;32m   1856\u001b[0m         \u001b[0margs\u001b[0m\u001b[0;34m,\u001b[0m\u001b[0;34m\u001b[0m\u001b[0;34m\u001b[0m\u001b[0m\n",
            "\u001b[0;32m/usr/local/lib/python3.7/dist-packages/tensorflow/python/eager/function.py\u001b[0m in \u001b[0;36mcall\u001b[0;34m(self, ctx, args, cancellation_manager)\u001b[0m\n\u001b[1;32m    502\u001b[0m               \u001b[0minputs\u001b[0m\u001b[0;34m=\u001b[0m\u001b[0margs\u001b[0m\u001b[0;34m,\u001b[0m\u001b[0;34m\u001b[0m\u001b[0;34m\u001b[0m\u001b[0m\n\u001b[1;32m    503\u001b[0m               \u001b[0mattrs\u001b[0m\u001b[0;34m=\u001b[0m\u001b[0mattrs\u001b[0m\u001b[0;34m,\u001b[0m\u001b[0;34m\u001b[0m\u001b[0;34m\u001b[0m\u001b[0m\n\u001b[0;32m--> 504\u001b[0;31m               ctx=ctx)\n\u001b[0m\u001b[1;32m    505\u001b[0m         \u001b[0;32melse\u001b[0m\u001b[0;34m:\u001b[0m\u001b[0;34m\u001b[0m\u001b[0;34m\u001b[0m\u001b[0m\n\u001b[1;32m    506\u001b[0m           outputs = execute.execute_with_cancellation(\n",
            "\u001b[0;32m/usr/local/lib/python3.7/dist-packages/tensorflow/python/eager/execute.py\u001b[0m in \u001b[0;36mquick_execute\u001b[0;34m(op_name, num_outputs, inputs, attrs, ctx, name)\u001b[0m\n\u001b[1;32m     53\u001b[0m     \u001b[0mctx\u001b[0m\u001b[0;34m.\u001b[0m\u001b[0mensure_initialized\u001b[0m\u001b[0;34m(\u001b[0m\u001b[0;34m)\u001b[0m\u001b[0;34m\u001b[0m\u001b[0;34m\u001b[0m\u001b[0m\n\u001b[1;32m     54\u001b[0m     tensors = pywrap_tfe.TFE_Py_Execute(ctx._handle, device_name, op_name,\n\u001b[0;32m---> 55\u001b[0;31m                                         inputs, attrs, num_outputs)\n\u001b[0m\u001b[1;32m     56\u001b[0m   \u001b[0;32mexcept\u001b[0m \u001b[0mcore\u001b[0m\u001b[0;34m.\u001b[0m\u001b[0m_NotOkStatusException\u001b[0m \u001b[0;32mas\u001b[0m \u001b[0me\u001b[0m\u001b[0;34m:\u001b[0m\u001b[0;34m\u001b[0m\u001b[0;34m\u001b[0m\u001b[0m\n\u001b[1;32m     57\u001b[0m     \u001b[0;32mif\u001b[0m \u001b[0mname\u001b[0m \u001b[0;32mis\u001b[0m \u001b[0;32mnot\u001b[0m \u001b[0;32mNone\u001b[0m\u001b[0;34m:\u001b[0m\u001b[0;34m\u001b[0m\u001b[0;34m\u001b[0m\u001b[0m\n",
            "\u001b[0;31mKeyboardInterrupt\u001b[0m: "
          ]
        }
      ],
      "source": [
        "for epoch in range(30):\n",
        "\n",
        "  # Accumulate the loss to calculate the average at the end of the epoch\n",
        "  dLossSum = 0\n",
        "  gLossSum = 0\n",
        "  dAccSum = 0\n",
        "  gAccSum = 0\n",
        "  cnt = 0\n",
        "\n",
        "  # Loop the dataset pne batch at a time\n",
        "  for batch in dataset:\n",
        "    # Train the discriminator\n",
        "    dLoss = trainDStep(batch)\n",
        "    dLossSum += dLoss['discriminator_loss']\n",
        "    dAccSum += dLoss['discriminator_accuracy']\n",
        "\n",
        "    gLoss = trainGStep(batch)\n",
        "    gLossSum += gLoss['generator_loss']\n",
        "    gAccSum += gLoss['generator_accuracy']\n",
        "\n",
        "    # Increment the counter\n",
        "    cnt += 1\n",
        "\n",
        "  # Log the performance\n",
        "  print(\"E:{}, Loss G:{:0.4f}, Acc G:%{:0.2f}, Acc D:%{:0.2f}\".format(\n",
        "      epoch,\n",
        "      gLossSum/cnt,\n",
        "      dLossSum/cnt,\n",
        "      100 * gAccSum/cnt,\n",
        "      100 * dAccSum/cnt\n",
        "  ))\n",
        "\n",
        "  if epoch % 2 == 0:\n",
        "    plotImages(generator)"
      ]
    },
    {
      "cell_type": "code",
      "execution_count": null,
      "metadata": {
        "id": "mjnqVhOUk6Yl"
      },
      "outputs": [],
      "source": [
        "# Generate some images with the trained model\n",
        "# Observe the generated samples seem to belong to the same or similar class, this \n",
        "# is the \"model collapse problem of GANs\n",
        "images = generator(np.random.normal(size=(81, NOISE_DIM)))\n",
        "\n",
        "# Plot the generated samples\n",
        "from matplotlib import pyplot as plotImages\n",
        "\n",
        "plt.figure(figsize=(9, 9))\n",
        "\n",
        "for i, image in enumerate(images):\n",
        "  plt.subplot(9, 9, i+1)\n",
        "  plt.imshow(np.squeeze(image, -1), cmap=\"Grey_r\")\n",
        "  plt.axis('off')\n",
        "\n",
        "plt.show()"
      ]
    }
  ],
  "metadata": {
    "accelerator": "GPU",
    "colab": {
      "name": "GAN_on_Fashion_MNIST.ipynb",
      "provenance": [],
      "authorship_tag": "ABX9TyM7elJEmQmGaDLPMVOFGgXK",
      "include_colab_link": true
    },
    "kernelspec": {
      "display_name": "Python 3",
      "name": "python3"
    },
    "language_info": {
      "name": "python"
    }
  },
  "nbformat": 4,
  "nbformat_minor": 0
}